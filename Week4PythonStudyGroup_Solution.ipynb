{
  "nbformat": 4,
  "nbformat_minor": 0,
  "metadata": {
    "colab": {
      "provenance": []
    },
    "kernelspec": {
      "name": "python3",
      "display_name": "Python 3"
    },
    "language_info": {
      "name": "python"
    }
  },
  "cells": [
    {
      "cell_type": "markdown",
      "source": [
        "## Remediation Task\n",
        "---\n",
        "It has been brought to company XYZ's attention that incorrect fees may have been charged on a number of our investment products over the past 5 years. Can you please:\n",
        "\n",
        "*   The total number  of impacted customers and investment product\n",
        "*   The 10 largest remediation amounts, by customer\n",
        "*   Total amount of remediation, by investment product\n",
        "---\n",
        "The following is provided to assist with your investigaitons: \n",
        "\n",
        "*   Opening account balances prior to any perceived error\n",
        "*   Closing account balances as at today\n",
        "*   The fees that should have been charged\n",
        "*   A calculation methdology\n",
        "\n",
        "The first three items above ar provided to you in csv files. The calculation methodology is provided below\n",
        "\n",
        "---\n",
        "\n",
        "#### Calculation Methodology\n",
        "Closing balances are obtained by first crediting fund performance to opeinng balances, then deducting fees from that amonunt. e.g.\n",
        "\n",
        "Balance@(t+1) = Balance@(t) + Returns@(t) - Deductions@(t)\n",
        "\n",
        "where:\n",
        "  \n",
        "Returns@(t) = Balance@(t) * (1 + Investment_returns@(t))\n",
        "  \n",
        "Deductions@(t) = (Balance@(t) + Returns@(t)) * Variable_fee_rate@(t) + Constant_fee@(t)\n",
        "\n",
        "**Remediation**\n",
        "\n",
        "Remediation amounts should be the difference between the recalculated closing account balance, and the provided closing account balances. Remediation amounts cannot be negative, i.e. the company will not take money from customers in the event of an error.\n",
        "\n",
        "Remediation = max(0, Recalculated_closing_balance - closing_balance_provided)\n",
        "\n"
      ],
      "metadata": {
        "id": "r6_ZcuXQ8Y6d"
      }
    },
    {
      "cell_type": "markdown",
      "source": [
        "Importing packages"
      ],
      "metadata": {
        "id": "a8Etj_4A8NxS"
      }
    },
    {
      "cell_type": "code",
      "execution_count": 3,
      "metadata": {
        "id": "c32-tIDA8M66"
      },
      "outputs": [],
      "source": [
        "import pandas as pd\n",
        "import numpy as np\n",
        "import time\n",
        "from google.colab import drive"
      ]
    },
    {
      "cell_type": "markdown",
      "source": [
        "mounting google drive"
      ],
      "metadata": {
        "id": "RbyhqaqK_hFq"
      }
    },
    {
      "cell_type": "code",
      "source": [
        "drive.mount('/drive')"
      ],
      "metadata": {
        "id": "eYbyQQHb_j-p",
        "colab": {
          "base_uri": "https://localhost:8080/"
        },
        "outputId": "8088c604-9be9-483a-c08a-6a16a10fa78e"
      },
      "execution_count": 4,
      "outputs": [
        {
          "output_type": "stream",
          "name": "stdout",
          "text": [
            "Drive already mounted at /drive; to attempt to forcibly remount, call drive.mount(\"/drive\", force_remount=True).\n"
          ]
        }
      ]
    },
    {
      "cell_type": "markdown",
      "source": [
        "Reading in data from drive"
      ],
      "metadata": {
        "id": "ePpj4BYz_mNC"
      }
    },
    {
      "cell_type": "code",
      "source": [
        "fee_rates = pd.read_csv(\"/drive/My Drive/AI_python_training/fee_rates.csv\")\n",
        "accounts = pd.read_csv(\"/drive/My Drive/AI_python_training/account_info.csv\")\n",
        "returns = pd.read_csv(\"/drive/My Drive/AI_python_training/monthly_returns.csv\")"
      ],
      "metadata": {
        "id": "QsJDrRJu_s9c"
      },
      "execution_count": 5,
      "outputs": []
    },
    {
      "cell_type": "code",
      "source": [
        "returns.plot()\n",
        "accounts.plot.hist()\n",
        "fee_rates"
      ],
      "metadata": {
        "id": "u2jRw4wLAB_W"
      },
      "execution_count": null,
      "outputs": []
    },
    {
      "cell_type": "markdown",
      "source": [
        "### Recalculate account balance as at today for each model point"
      ],
      "metadata": {
        "id": "zSQ6LqfI_qEa"
      }
    },
    {
      "cell_type": "markdown",
      "source": [
        "Preprocess data"
      ],
      "metadata": {
        "id": "GKWwS3n217iN"
      }
    },
    {
      "cell_type": "code",
      "source": [
        "# adding year as a column, so can match fee rates easier later\n",
        "returns['Date'] = pd.to_datetime(returns['Date'])\n",
        "returns['Year'] = returns['Date'].dt.year\n",
        "returns"
      ],
      "metadata": {
        "id": "7bT0mFszW--3"
      },
      "execution_count": null,
      "outputs": []
    },
    {
      "cell_type": "code",
      "source": [
        "# reformatting %'s for fee rate data\n",
        "fee_rates['variable fee'] = [float(fee[:-1])/100 for fee in fee_rates['variable fee']]\n",
        "fee_rates"
      ],
      "metadata": {
        "id": "RALf8hfnYA_Y"
      },
      "execution_count": null,
      "outputs": []
    },
    {
      "cell_type": "code",
      "source": [
        "# creating three seperate projection infos (returns and fees) for each account type\n",
        "projection_dict = {}\n",
        "for account_type in [\"Balanced\", \"High Growth\", \"Low Risk\"]:\n",
        "  df = returns[['Date', \"Year\", account_type]].copy()\n",
        "  df.rename(columns = {account_type: 'return'}, inplace=True)\n",
        "\n",
        "  fee_rates_filtered = fee_rates[fee_rates[\"Account Type\"] == account_type].drop(\"Account Type\", axis=1)\n",
        "  df_combined = pd.merge(df, fee_rates_filtered, on=\"Year\")\n",
        "\n",
        "  projection_dict[account_type] = df_combined\n",
        "projection_dict[\"High Growth\"]"
      ],
      "metadata": {
        "id": "vgkAfIE9XutQ"
      },
      "execution_count": null,
      "outputs": []
    },
    {
      "cell_type": "markdown",
      "source": [
        "Recalculate account balance at each period"
      ],
      "metadata": {
        "id": "MLYgfAnE1gCD"
      }
    },
    {
      "cell_type": "code",
      "source": [
        "def calculate_balance(opening_balance, growth, fee_constant, fee_variable):\n",
        "  balance = opening_balance * (1 + growth)\n",
        "  deductions = fee_constant + balance * fee_variable\n",
        "  closing_balance = balance - deductions\n",
        "  return closing_balance"
      ],
      "metadata": {
        "id": "YK-eKx_T10CW"
      },
      "execution_count": null,
      "outputs": []
    },
    {
      "cell_type": "markdown",
      "source": [
        "Repeat about step for all periods"
      ],
      "metadata": {
        "id": "fq6mJTYE1sUn"
      }
    },
    {
      "cell_type": "code",
      "source": [
        "def balance_today(account, projection_dict):\n",
        "  balance = account['Opening Balance']\n",
        "  projection = projection_dict[account[\"Account Type\"]]\n",
        "  for i, row in projection.iterrows():\n",
        "    balance = calculate_balance(balance,\n",
        "                                row['return'],\n",
        "                                row['constant fee'],\n",
        "                                row['variable fee'])\n",
        "  return round(balance, 2)"
      ],
      "metadata": {
        "id": "0K55BgMt2mqP"
      },
      "execution_count": null,
      "outputs": []
    },
    {
      "cell_type": "markdown",
      "source": [
        "Repeat above step for all model points"
      ],
      "metadata": {
        "id": "wXAx8pij1vFV"
      }
    },
    {
      "cell_type": "code",
      "source": [
        "results = accounts.copy()\n",
        "start = time.time()\n",
        "for i, account in results.iterrows():\n",
        "  results.loc[i, 'Recalculated Closing Balance'] = balance_today(account, projection_dict)\n",
        "end = time.time()\n",
        "elapsed = round(end - start, 2)\n",
        "print(f\"finished in: {elapsed} seconds\")"
      ],
      "metadata": {
        "colab": {
          "base_uri": "https://localhost:8080/"
        },
        "id": "_3nIk65JZLB-",
        "outputId": "61c8880e-59b6-41db-acd8-3c0f3619b398"
      },
      "execution_count": null,
      "outputs": [
        {
          "output_type": "stream",
          "name": "stdout",
          "text": [
            "finished in: 263.04 seconds\n"
          ]
        }
      ]
    },
    {
      "cell_type": "markdown",
      "source": [
        "### Calculate remediation amount for each model point"
      ],
      "metadata": {
        "id": "h4sykaQR1Igq"
      }
    },
    {
      "cell_type": "code",
      "source": [
        "results['difference'] = results['Recalculated Closing Balance'] - results['Closing Balance'] \n",
        "results['remediation'] = 0\n",
        "results.loc[results['difference'] > 0, 'remediation'] = results.loc[results['difference'] > 0, 'difference']"
      ],
      "metadata": {
        "id": "NYN78t0ucW4n"
      },
      "execution_count": null,
      "outputs": []
    },
    {
      "cell_type": "markdown",
      "source": [
        "### Summarise information by account type"
      ],
      "metadata": {
        "id": "2YUrJPfm1Tdz"
      }
    },
    {
      "cell_type": "code",
      "source": [
        "summary = results.groupby(\"Account Type\").sum()\n",
        "summary.plot.pie(y='remediation')\n",
        "summary\n",
        "print(str(sum(results['remediation']>0)) + \" impacted customers.\")"
      ],
      "metadata": {
        "colab": {
          "base_uri": "https://localhost:8080/",
          "height": 265
        },
        "id": "nttSLbZ0wDsm",
        "outputId": "87f55797-6f3d-4d83-e640-b4087a7d63b4"
      },
      "execution_count": null,
      "outputs": [
        {
          "output_type": "stream",
          "name": "stdout",
          "text": [
            "33148 impacted customers.\n"
          ]
        },
        {
          "output_type": "display_data",
          "data": {
            "text/plain": [
              "<Figure size 432x288 with 1 Axes>"
            ],
            "image/png": "[encoded data removed]"
          },
          "metadata": {}
        }
      ]
    },
    {
      "cell_type": "markdown",
      "source": [
        "### Show top ten remediable accounts"
      ],
      "metadata": {
        "id": "T2AW7fFu1Zyr"
      }
    },
    {
      "cell_type": "code",
      "source": [
        "results.sort_values('remediation', ascending=False).head(10)"
      ],
      "metadata": {
        "id": "d1o1p8wh1H-n",
        "colab": {
          "base_uri": "https://localhost:8080/",
          "height": 363
        },
        "outputId": "ebebcc7e-9561-493d-8fdf-2c1456797bac"
      },
      "execution_count": null,
      "outputs": [
        {
          "output_type": "execute_result",
          "data": {
            "text/plain": [
              "              ID Account Type  Opening Balance  Closing Balance  \\\n",
              "23788  Z05331363  High Growth        150512.63        101850.13   \n",
              "34693  K06043587  High Growth        135210.25         91452.23   \n",
              "42669  W09466072  High Growth        135158.51         91417.07   \n",
              "19779  X09058809  High Growth        134592.50         91032.47   \n",
              "25318  M01484561  High Growth        134503.94         90972.29   \n",
              "5828   X09255637  High Growth        127978.40         86538.22   \n",
              "17430  N05978820  High Growth        127960.75         86526.22   \n",
              "41342  E09990146  High Growth        127433.76         86168.13   \n",
              "13302  Q07830948  High Growth        123239.75         83318.32   \n",
              "15913  P08441895  High Growth        120874.85         81711.38   \n",
              "\n",
              "       Recalculated Closing Balance  difference  remediation  \n",
              "23788                     104343.61     2493.48      2493.48  \n",
              "34693                      93691.72     2239.49      2239.49  \n",
              "42669                      93655.71     2238.64      2238.64  \n",
              "19779                      93261.71     2229.24      2229.24  \n",
              "25318                      93200.07     2227.78      2227.78  \n",
              "5828                       88657.68     2119.46      2119.46  \n",
              "17430                      88645.39     2119.17      2119.17  \n",
              "41342                      88278.56     2110.43      2110.43  \n",
              "13302                      85359.14     2040.82      2040.82  \n",
              "15913                      83712.94     2001.56      2001.56  "
            ],
            "text/html": [
              "\n",
              "  <div id=\"df-0cb724df-3f6c-4ff4-9327-385ef3b83324\">\n",
              "    <div class=\"colab-df-container\">\n",
              "      <div>\n",
              "<style scoped>\n",
              "    .dataframe tbody tr th:only-of-type {\n",
              "        vertical-align: middle;\n",
              "    }\n",
              "\n",
              "    .dataframe tbody tr th {\n",
              "        vertical-align: top;\n",
              "    }\n",
              "\n",
              "    .dataframe thead th {\n",
              "        text-align: right;\n",
              "    }\n",
              "</style>\n",
              "<table border=\"1\" class=\"dataframe\">\n",
              "  <thead>\n",
              "    <tr style=\"text-align: right;\">\n",
              "      <th></th>\n",
              "      <th>ID</th>\n",
              "      <th>Account Type</th>\n",
              "      <th>Opening Balance</th>\n",
              "      <th>Closing Balance</th>\n",
              "      <th>Recalculated Closing Balance</th>\n",
              "      <th>difference</th>\n",
              "      <th>remediation</th>\n",
              "    </tr>\n",
              "  </thead>\n",
              "  <tbody>\n",
              "    <tr>\n",
              "      <th>23788</th>\n",
              "      <td>Z05331363</td>\n",
              "      <td>High Growth</td>\n",
              "      <td>150512.63</td>\n",
              "      <td>101850.13</td>\n",
              "      <td>104343.61</td>\n",
              "      <td>2493.48</td>\n",
              "      <td>2493.48</td>\n",
              "    </tr>\n",
              "    <tr>\n",
              "      <th>34693</th>\n",
              "      <td>K06043587</td>\n",
              "      <td>High Growth</td>\n",
              "      <td>135210.25</td>\n",
              "      <td>91452.23</td>\n",
              "      <td>93691.72</td>\n",
              "      <td>2239.49</td>\n",
              "      <td>2239.49</td>\n",
              "    </tr>\n",
              "    <tr>\n",
              "      <th>42669</th>\n",
              "      <td>W09466072</td>\n",
              "      <td>High Growth</td>\n",
              "      <td>135158.51</td>\n",
              "      <td>91417.07</td>\n",
              "      <td>93655.71</td>\n",
              "      <td>2238.64</td>\n",
              "      <td>2238.64</td>\n",
              "    </tr>\n",
              "    <tr>\n",
              "      <th>19779</th>\n",
              "      <td>X09058809</td>\n",
              "      <td>High Growth</td>\n",
              "      <td>134592.50</td>\n",
              "      <td>91032.47</td>\n",
              "      <td>93261.71</td>\n",
              "      <td>2229.24</td>\n",
              "      <td>2229.24</td>\n",
              "    </tr>\n",
              "    <tr>\n",
              "      <th>25318</th>\n",
              "      <td>M01484561</td>\n",
              "      <td>High Growth</td>\n",
              "      <td>134503.94</td>\n",
              "      <td>90972.29</td>\n",
              "      <td>93200.07</td>\n",
              "      <td>2227.78</td>\n",
              "      <td>2227.78</td>\n",
              "    </tr>\n",
              "    <tr>\n",
              "      <th>5828</th>\n",
              "      <td>X09255637</td>\n",
              "      <td>High Growth</td>\n",
              "      <td>127978.40</td>\n",
              "      <td>86538.22</td>\n",
              "      <td>88657.68</td>\n",
              "      <td>2119.46</td>\n",
              "      <td>2119.46</td>\n",
              "    </tr>\n",
              "    <tr>\n",
              "      <th>17430</th>\n",
              "      <td>N05978820</td>\n",
              "      <td>High Growth</td>\n",
              "      <td>127960.75</td>\n",
              "      <td>86526.22</td>\n",
              "      <td>88645.39</td>\n",
              "      <td>2119.17</td>\n",
              "      <td>2119.17</td>\n",
              "    </tr>\n",
              "    <tr>\n",
              "      <th>41342</th>\n",
              "      <td>E09990146</td>\n",
              "      <td>High Growth</td>\n",
              "      <td>127433.76</td>\n",
              "      <td>86168.13</td>\n",
              "      <td>88278.56</td>\n",
              "      <td>2110.43</td>\n",
              "      <td>2110.43</td>\n",
              "    </tr>\n",
              "    <tr>\n",
              "      <th>13302</th>\n",
              "      <td>Q07830948</td>\n",
              "      <td>High Growth</td>\n",
              "      <td>123239.75</td>\n",
              "      <td>83318.32</td>\n",
              "      <td>85359.14</td>\n",
              "      <td>2040.82</td>\n",
              "      <td>2040.82</td>\n",
              "    </tr>\n",
              "    <tr>\n",
              "      <th>15913</th>\n",
              "      <td>P08441895</td>\n",
              "      <td>High Growth</td>\n",
              "      <td>120874.85</td>\n",
              "      <td>81711.38</td>\n",
              "      <td>83712.94</td>\n",
              "      <td>2001.56</td>\n",
              "      <td>2001.56</td>\n",
              "    </tr>\n",
              "  </tbody>\n",
              "</table>\n",
              "</div>\n",
              "      <button class=\"colab-df-convert\" onclick=\"convertToInteractive('df-0cb724df-3f6c-4ff4-9327-385ef3b83324')\"\n",
              "              title=\"Convert this dataframe to an interactive table.\"\n",
              "              style=\"display:none;\">\n",
              "        \n",
              "  <svg xmlns=\"http://www.w3.org/2000/svg\" height=\"24px\"viewBox=\"0 0 24 24\"\n",
              "       width=\"24px\">\n",
              "    <path d=\"M0 0h24v24H0V0z\" fill=\"none\"/>\n",
              "    <path d=\"M18.56 5.44l.94 2.06.94-2.06 2.06-.94-2.06-.94-.94-2.06-.94 2.06-2.06.94zm-11 1L8.5 8.5l.94-2.06 2.06-.94-2.06-.94L8.5 2.5l-.94 2.06-2.06.94zm10 10l.94 2.06.94-2.06 2.06-.94-2.06-.94-.94-2.06-.94 2.06-2.06.94z\"/><path d=\"M17.41 7.96l-1.37-1.37c-.4-.4-.92-.59-1.43-.59-.52 0-1.04.2-1.43.59L10.3 9.45l-7.72 7.72c-.78.78-.78 2.05 0 2.83L4 21.41c.39.39.9.59 1.41.59.51 0 1.02-.2 1.41-.59l7.78-7.78 2.81-2.81c.8-.78.8-2.07 0-2.86zM5.41 20L4 18.59l7.72-7.72 1.47 1.35L5.41 20z\"/>\n",
              "  </svg>\n",
              "      </button>\n",
              "      \n",
              "  <style>\n",
              "    .colab-df-container {\n",
              "      display:flex;\n",
              "      flex-wrap:wrap;\n",
              "      gap: 12px;\n",
              "    }\n",
              "\n",
              "    .colab-df-convert {\n",
              "      background-color: #E8F0FE;\n",
              "      border: none;\n",
              "      border-radius: 50%;\n",
              "      cursor: pointer;\n",
              "      display: none;\n",
              "      fill: #1967D2;\n",
              "      height: 32px;\n",
              "      padding: 0 0 0 0;\n",
              "      width: 32px;\n",
              "    }\n",
              "\n",
              "    .colab-df-convert:hover {\n",
              "      background-color: #E2EBFA;\n",
              "      box-shadow: 0px 1px 2px rgba(60, 64, 67, 0.3), 0px 1px 3px 1px rgba(60, 64, 67, 0.15);\n",
              "      fill: #174EA6;\n",
              "    }\n",
              "\n",
              "    [theme=dark] .colab-df-convert {\n",
              "      background-color: #3B4455;\n",
              "      fill: #D2E3FC;\n",
              "    }\n",
              "\n",
              "    [theme=dark] .colab-df-convert:hover {\n",
              "      background-color: #434B5C;\n",
              "      box-shadow: 0px 1px 3px 1px rgba(0, 0, 0, 0.15);\n",
              "      filter: drop-shadow(0px 1px 2px rgba(0, 0, 0, 0.3));\n",
              "      fill: #FFFFFF;\n",
              "    }\n",
              "  </style>\n",
              "\n",
              "      <script>\n",
              "        const buttonEl =\n",
              "          document.querySelector('#df-0cb724df-3f6c-4ff4-9327-385ef3b83324 button.colab-df-convert');\n",
              "        buttonEl.style.display =\n",
              "          google.colab.kernel.accessAllowed ? 'block' : 'none';\n",
              "\n",
              "        async function convertToInteractive(key) {\n",
              "          const element = document.querySelector('#df-0cb724df-3f6c-4ff4-9327-385ef3b83324');\n",
              "          const dataTable =\n",
              "            await google.colab.kernel.invokeFunction('convertToInteractive',\n",
              "                                                     [key], {});\n",
              "          if (!dataTable) return;\n",
              "\n",
              "          const docLinkHtml = 'Like what you see? Visit the ' +\n",
              "            '<a target=\"_blank\" href=https://colab.research.google.com/notebooks/data_table.ipynb>data table notebook</a>'\n",
              "            + ' to learn more about interactive tables.';\n",
              "          element.innerHTML = '';\n",
              "          dataTable['output_type'] = 'display_data';\n",
              "          await google.colab.output.renderOutput(dataTable, element);\n",
              "          const docLink = document.createElement('div');\n",
              "          docLink.innerHTML = docLinkHtml;\n",
              "          element.appendChild(docLink);\n",
              "        }\n",
              "      </script>\n",
              "    </div>\n",
              "  </div>\n",
              "  "
            ]
          },
          "metadata": {},
          "execution_count": 65
        }
      ]
    },
    {
      "cell_type": "markdown",
      "source": [
        "### Alternative approach to calculating rather than loop"
      ],
      "metadata": {
        "id": "0HWpfmA4ZpT1"
      }
    },
    {
      "cell_type": "markdown",
      "source": [
        "set up 3 dataframes with 1 row for each account, columns having\n",
        "1.   returns\n",
        "2.  constant fee\n",
        "3.  variable fee\n",
        "\n"
      ],
      "metadata": {
        "id": "zxkwKLiwZ10l"
      }
    },
    {
      "cell_type": "code",
      "source": [
        "# creating three seperate projection infos dataframes as above\n",
        "returns_df = accounts.copy()\n",
        "constant_fee_df = accounts.copy()\n",
        "variable_fee_df = accounts.copy()\n",
        "for i, row in returns.iterrows():\n",
        "  for account_type in [\"Balanced\", \"High Growth\", \"Low Risk\"]:\n",
        "    mask = returns_df['Account Type'] == account_type\n",
        "    date = row['Date']\n",
        "\n",
        "    returns_df.loc[mask, date] = row[account_type]\n",
        "\n",
        "    df = projection_dict[account_type]\n",
        "    fees = df.loc[df['Date']==date, ['constant fee', 'variable fee']]\n",
        "\n",
        "    constant_fee_df.loc[mask, date] = fees['constant fee'].values[0]\n",
        "    variable_fee_df.loc[mask, date] = fees['variable fee'].values[0]"
      ],
      "metadata": {
        "id": "3YWNldBgZyxg"
      },
      "execution_count": null,
      "outputs": []
    },
    {
      "cell_type": "code",
      "source": [
        "variable_fee_df"
      ],
      "metadata": {
        "id": "I5oewo9ow_Hp"
      },
      "execution_count": null,
      "outputs": []
    },
    {
      "cell_type": "code",
      "source": [
        "results_df = accounts.copy()\n",
        "last_date = 'Opening Balance'\n",
        "for i, row in returns.iterrows():\n",
        "  date = row['Date']\n",
        "  balance = results_df[last_date] * (1 + returns_df[date])\n",
        "  deductions = constant_fee_df[date] + balance * variable_fee_df[date]\n",
        "  results_df[date] = balance - deductions\n",
        "  last_date = date"
      ],
      "metadata": {
        "id": "qo7IWykp8DLR"
      },
      "execution_count": null,
      "outputs": []
    },
    {
      "cell_type": "code",
      "source": [
        "results_df['difference'] = results_df[date] - results_df['Closing Balance']\n",
        "results_df['remediation'] = 0\n",
        "results_df.loc[results['difference'] > 0, 'remediation'] = results_df.loc[results['difference'] > 0, 'difference']"
      ],
      "metadata": {
        "id": "ZqMBLFUN-C1n"
      },
      "execution_count": null,
      "outputs": []
    },
    {
      "cell_type": "code",
      "source": [
        "print(sum(results_df['remediation']))\n",
        "print(sum(results['remediation']))"
      ],
      "metadata": {
        "colab": {
          "base_uri": "https://localhost:8080/"
        },
        "id": "lEmaYtTB-eBQ",
        "outputId": "4f2a3e53-3ce6-4f89-a96e-9957c2f9937f"
      },
      "execution_count": null,
      "outputs": [
        {
          "output_type": "stream",
          "name": "stdout",
          "text": [
            "11720171.941630855\n",
            "11720171.609997803\n"
          ]
        }
      ]
    },
    {
      "cell_type": "code",
      "source": [
        "summary_df = results_df.groupby(\"Account Type\").sum()\n",
        "summary_df.plot.pie(y='remediation')\n",
        "summary_df\n",
        "print(str(sum(results_df['remediation']>0)) + \" impacted customers.\")\n",
        "print(str(sum(results['remediation']>0)) + \" impacted customers.\")"
      ],
      "metadata": {
        "colab": {
          "base_uri": "https://localhost:8080/",
          "height": 283
        },
        "id": "TJ9aJPky-mZ-",
        "outputId": "6876efcf-5b10-4da6-efb6-a963caf6b838"
      },
      "execution_count": null,
      "outputs": [
        {
          "output_type": "stream",
          "name": "stdout",
          "text": [
            "33148 impacted customers.\n",
            "33148 impacted customers.\n"
          ]
        },
        {
          "output_type": "display_data",
          "data": {
            "text/plain": [
              "<Figure size 432x288 with 1 Axes>"
            ],
            "image/png": "[encoded data removed]"
          },
          "metadata": {}
        }
      ]
    },
    {
      "cell_type": "code",
      "source": [
        "drop_list = ['Opening Balance', 'Closing Balance', 'difference', 'remediation']\n",
        "summary_df.drop(columns = drop_list).transpose().plot()"
      ],
      "metadata": {
        "colab": {
          "base_uri": "https://localhost:8080/",
          "height": 283
        },
        "id": "4b2rScOZ-u20",
        "outputId": "6e687537-0bad-49e3-cced-4d238d187229"
      },
      "execution_count": null,
      "outputs": [
        {
          "output_type": "execute_result",
          "data": {
            "text/plain": [
              "<matplotlib.axes._subplots.AxesSubplot at 0x7facd80a1430>"
            ]
          },
          "metadata": {},
          "execution_count": 109
        },
        {
          "output_type": "display_data",
          "data": {
            "text/plain": [
              "<Figure size 432x288 with 1 Axes>"
            ],
            "image/png": "[encoded data removed]"
          },
          "metadata": {
            "needs_background": "light"
          }
        }
      ]
    }
  ]
}